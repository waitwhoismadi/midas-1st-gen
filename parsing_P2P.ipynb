{
 "cells": [
  {
   "cell_type": "code",
   "execution_count": 50,
   "metadata": {},
   "outputs": [
    {
     "name": "stdout",
     "output_type": "stream",
     "text": [
      "Requirement already satisfied: selenium in c:\\users\\sanzhar madiev\\appdata\\local\\programs\\python\\python312\\lib\\site-packages (4.17.2)\n",
      "Requirement already satisfied: urllib3[socks]<3,>=1.26 in c:\\users\\sanzhar madiev\\appdata\\local\\programs\\python\\python312\\lib\\site-packages (from selenium) (2.1.0)\n",
      "Requirement already satisfied: trio~=0.17 in c:\\users\\sanzhar madiev\\appdata\\local\\programs\\python\\python312\\lib\\site-packages (from selenium) (0.24.0)\n",
      "Requirement already satisfied: trio-websocket~=0.9 in c:\\users\\sanzhar madiev\\appdata\\local\\programs\\python\\python312\\lib\\site-packages (from selenium) (0.11.1)\n",
      "Requirement already satisfied: certifi>=2021.10.8 in c:\\users\\sanzhar madiev\\appdata\\local\\programs\\python\\python312\\lib\\site-packages (from selenium) (2023.11.17)\n",
      "Requirement already satisfied: typing_extensions>=4.9.0 in c:\\users\\sanzhar madiev\\appdata\\local\\programs\\python\\python312\\lib\\site-packages (from selenium) (4.9.0)\n",
      "Requirement already satisfied: attrs>=20.1.0 in c:\\users\\sanzhar madiev\\appdata\\local\\programs\\python\\python312\\lib\\site-packages (from trio~=0.17->selenium) (23.2.0)\n",
      "Requirement already satisfied: sortedcontainers in c:\\users\\sanzhar madiev\\appdata\\local\\programs\\python\\python312\\lib\\site-packages (from trio~=0.17->selenium) (2.4.0)\n",
      "Requirement already satisfied: idna in c:\\users\\sanzhar madiev\\appdata\\local\\programs\\python\\python312\\lib\\site-packages (from trio~=0.17->selenium) (3.6)\n",
      "Requirement already satisfied: outcome in c:\\users\\sanzhar madiev\\appdata\\local\\programs\\python\\python312\\lib\\site-packages (from trio~=0.17->selenium) (1.3.0.post0)\n",
      "Requirement already satisfied: sniffio>=1.3.0 in c:\\users\\sanzhar madiev\\appdata\\local\\programs\\python\\python312\\lib\\site-packages (from trio~=0.17->selenium) (1.3.0)\n",
      "Requirement already satisfied: cffi>=1.14 in c:\\users\\sanzhar madiev\\appdata\\local\\programs\\python\\python312\\lib\\site-packages (from trio~=0.17->selenium) (1.16.0)\n",
      "Requirement already satisfied: wsproto>=0.14 in c:\\users\\sanzhar madiev\\appdata\\local\\programs\\python\\python312\\lib\\site-packages (from trio-websocket~=0.9->selenium) (1.2.0)\n",
      "Requirement already satisfied: pysocks!=1.5.7,<2.0,>=1.5.6 in c:\\users\\sanzhar madiev\\appdata\\local\\programs\\python\\python312\\lib\\site-packages (from urllib3[socks]<3,>=1.26->selenium) (1.7.1)\n",
      "Requirement already satisfied: pycparser in c:\\users\\sanzhar madiev\\appdata\\local\\programs\\python\\python312\\lib\\site-packages (from cffi>=1.14->trio~=0.17->selenium) (2.21)\n",
      "Requirement already satisfied: h11<1,>=0.9.0 in c:\\users\\sanzhar madiev\\appdata\\local\\programs\\python\\python312\\lib\\site-packages (from wsproto>=0.14->trio-websocket~=0.9->selenium) (0.14.0)\n",
      "Note: you may need to restart the kernel to use updated packages.\n"
     ]
    },
    {
     "name": "stderr",
     "output_type": "stream",
     "text": [
      "\n",
      "[notice] A new release of pip is available: 23.2.1 -> 23.3.2\n",
      "[notice] To update, run: python.exe -m pip install --upgrade pip\n"
     ]
    }
   ],
   "source": [
    "pip install selenium"
   ]
  },
  {
   "cell_type": "code",
   "execution_count": 51,
   "metadata": {},
   "outputs": [
    {
     "name": "stdout",
     "output_type": "stream",
     "text": [
      "Requirement already satisfied: webdriver-manager in c:\\users\\sanzhar madiev\\appdata\\local\\programs\\python\\python312\\lib\\site-packages (4.0.1)\n",
      "Requirement already satisfied: requests in c:\\users\\sanzhar madiev\\appdata\\local\\programs\\python\\python312\\lib\\site-packages (from webdriver-manager) (2.31.0)\n",
      "Requirement already satisfied: python-dotenv in c:\\users\\sanzhar madiev\\appdata\\local\\programs\\python\\python312\\lib\\site-packages (from webdriver-manager) (1.0.1)\n",
      "Requirement already satisfied: packaging in c:\\users\\sanzhar madiev\\appdata\\roaming\\python\\python312\\site-packages (from webdriver-manager) (23.2)\n",
      "Requirement already satisfied: charset-normalizer<4,>=2 in c:\\users\\sanzhar madiev\\appdata\\local\\programs\\python\\python312\\lib\\site-packages (from requests->webdriver-manager) (3.3.2)\n",
      "Requirement already satisfied: idna<4,>=2.5 in c:\\users\\sanzhar madiev\\appdata\\local\\programs\\python\\python312\\lib\\site-packages (from requests->webdriver-manager) (3.6)\n",
      "Requirement already satisfied: urllib3<3,>=1.21.1 in c:\\users\\sanzhar madiev\\appdata\\local\\programs\\python\\python312\\lib\\site-packages (from requests->webdriver-manager) (2.1.0)\n",
      "Requirement already satisfied: certifi>=2017.4.17 in c:\\users\\sanzhar madiev\\appdata\\local\\programs\\python\\python312\\lib\\site-packages (from requests->webdriver-manager) (2023.11.17)\n",
      "Note: you may need to restart the kernel to use updated packages.\n"
     ]
    },
    {
     "name": "stderr",
     "output_type": "stream",
     "text": [
      "\n",
      "[notice] A new release of pip is available: 23.2.1 -> 23.3.2\n",
      "[notice] To update, run: python.exe -m pip install --upgrade pip\n"
     ]
    }
   ],
   "source": [
    "pip install webdriver-manager"
   ]
  },
  {
   "cell_type": "code",
   "execution_count": 52,
   "metadata": {},
   "outputs": [],
   "source": [
    "from selenium import webdriver\n",
    "from selenium.webdriver.common.keys import Keys\n",
    "from time import sleep\n",
    "import random\n",
    "import pandas as pd\n",
    "from selenium import webdriver\n",
    "from webdriver_manager.chrome import ChromeDriverManager\n"
   ]
  },
  {
   "cell_type": "code",
   "execution_count": 53,
   "metadata": {},
   "outputs": [],
   "source": [
    "\n",
    "from urllib.parse import urljoin\n",
    "import csv\n",
    "import pandas as pd\n",
    "from selenium import webdriver\n",
    "from bs4 import BeautifulSoup\n",
    "import time\n",
    "from selenium import webdriver\n",
    "from selenium.webdriver.common.by import By\n",
    "from selenium.webdriver.support.ui import WebDriverWait\n",
    "from selenium.webdriver.support import expected_conditions as EC\n",
    "from selenium.common.exceptions import NoSuchElementException\n"
   ]
  },
  {
   "cell_type": "code",
   "execution_count": null,
   "metadata": {},
   "outputs": [],
   "source": [
    "driver = webdriver.Chrome()"
   ]
  },
  {
   "cell_type": "code",
   "execution_count": null,
   "metadata": {},
   "outputs": [],
   "source": [
    "url = 'https://p2p.binance.com/en/trade/all-payments/USDT?fiat=KZT'\n",
    "driver.get(url)"
   ]
  },
  {
   "cell_type": "code",
   "execution_count": 75,
   "metadata": {},
   "outputs": [
    {
     "name": "stdout",
     "output_type": "stream",
     "text": [
      "Fignya\n",
      "https://p2p.binance.com/en/advertiserDetail?advertiserNo=s7e2278ada1d23dc2904fd84e2db7bd7b\n",
      "Fignya\n",
      "https://p2p.binance.com/en/advertiserDetail?advertiserNo=sbc36487d9c1538b98e8b83182dc517cb\n",
      "Fignya\n",
      "https://p2p.binance.com/en/advertiserDetail?advertiserNo=s7d20d1dea76a30fdabf5cf0fd1ed4844\n",
      "Fignya\n",
      "https://p2p.binance.com/en/advertiserDetail?advertiserNo=s00b2b731fe3e344e9434ac644b41fa33\n",
      "Fignya\n",
      "https://p2p.binance.com/en/advertiserDetail?advertiserNo=s37314f0ad3f03fd793c3046f863b8642\n",
      "Fignya\n",
      "https://p2p.binance.com/en/advertiserDetail?advertiserNo=s1c574aef74923ce49d7cd1910ca89596\n",
      "Some elements could not be found on the page.\n",
      "https://p2p.binance.com/en/advertiserDetail?advertiserNo=s445cbedb67d83755b42f7589c262343d\n",
      "Some elements could not be found on the page.\n",
      "https://p2p.binance.com/en/advertiserDetail?advertiserNo=s506db08005e83432ab2baaaa6a4b3f17\n"
     ]
    },
    {
     "data": {
      "text/html": [
       "<div>\n",
       "<style scoped>\n",
       "    .dataframe tbody tr th:only-of-type {\n",
       "        vertical-align: middle;\n",
       "    }\n",
       "\n",
       "    .dataframe tbody tr th {\n",
       "        vertical-align: top;\n",
       "    }\n",
       "\n",
       "    .dataframe thead th {\n",
       "        text-align: right;\n",
       "    }\n",
       "</style>\n",
       "<table border=\"1\" class=\"dataframe\">\n",
       "  <thead>\n",
       "    <tr style=\"text-align: right;\">\n",
       "      <th></th>\n",
       "      <th>URL</th>\n",
       "      <th>All trades</th>\n",
       "      <th>30d trades</th>\n",
       "      <th>30d completion rate</th>\n",
       "      <th>Avg. release time</th>\n",
       "      <th>Avg. pay time</th>\n",
       "    </tr>\n",
       "  </thead>\n",
       "  <tbody>\n",
       "    <tr>\n",
       "      <th>0</th>\n",
       "      <td>https://p2p.binance.com/en/advertiserDetail?ad...</td>\n",
       "      <td>360</td>\n",
       "      <td>25</td>\n",
       "      <td>100.0</td>\n",
       "      <td>1.82</td>\n",
       "      <td>0.00</td>\n",
       "    </tr>\n",
       "    <tr>\n",
       "      <th>1</th>\n",
       "      <td>https://p2p.binance.com/en/advertiserDetail?ad...</td>\n",
       "      <td>471</td>\n",
       "      <td>47</td>\n",
       "      <td>100.0</td>\n",
       "      <td>1.66</td>\n",
       "      <td>1.79</td>\n",
       "    </tr>\n",
       "    <tr>\n",
       "      <th>2</th>\n",
       "      <td>https://p2p.binance.com/en/advertiserDetail?ad...</td>\n",
       "      <td>613</td>\n",
       "      <td>114</td>\n",
       "      <td>100.0</td>\n",
       "      <td>1.25</td>\n",
       "      <td>0.68</td>\n",
       "    </tr>\n",
       "    <tr>\n",
       "      <th>3</th>\n",
       "      <td>https://p2p.binance.com/en/advertiserDetail?ad...</td>\n",
       "      <td>693</td>\n",
       "      <td>126</td>\n",
       "      <td>100.0</td>\n",
       "      <td>8.74</td>\n",
       "      <td>2.55</td>\n",
       "    </tr>\n",
       "  </tbody>\n",
       "</table>\n",
       "</div>"
      ],
      "text/plain": [
       "                                                 URL  All trades  30d trades  \\\n",
       "0  https://p2p.binance.com/en/advertiserDetail?ad...         360          25   \n",
       "1  https://p2p.binance.com/en/advertiserDetail?ad...         471          47   \n",
       "2  https://p2p.binance.com/en/advertiserDetail?ad...         613         114   \n",
       "3  https://p2p.binance.com/en/advertiserDetail?ad...         693         126   \n",
       "\n",
       "   30d completion rate  Avg. release time  Avg. pay time  \n",
       "0                100.0               1.82           0.00  \n",
       "1                100.0               1.66           1.79  \n",
       "2                100.0               1.25           0.68  \n",
       "3                100.0               8.74           2.55  "
      ]
     },
     "execution_count": 75,
     "metadata": {},
     "output_type": "execute_result"
    }
   ],
   "source": [
    "import requests\n",
    "\n",
    "def write_to_csv(data):\n",
    "    with open('p2p_offers.csv', mode='w', newline='', encoding='utf-8') as file:\n",
    "        fieldnames = ['URL', 'All trades', '30d trades', '30d completion rate', 'Avg. release time', 'Avg. pay time']\n",
    "        writer = csv.DictWriter(file, fieldnames=fieldnames)\n",
    "        writer.writeheader()\n",
    "        for row in data:\n",
    "            writer.writerow(row)\n",
    "\n",
    "# productlinks = []\n",
    "\n",
    "# for x in range (1,6):\n",
    "#     r = requests.get(f'https://contentservice.kz/yogurt-1/page{x}/')\n",
    "#     soup = BeautifulSoup(r.content, 'lxml')\n",
    "#     productlist = soup.find_all('div', class_='catalog__grid-view__item products-slider__item col-sm-6 wrap wrap-sm-2 col-lg-4 wrap-lg-3')\n",
    "\n",
    "#     for item in productlist:\n",
    "#         for link in item.find_all('a', href=True):\n",
    "#             productlinks.append(baseurl + link['href'])\n",
    "\n",
    "def scrape_p2p_data_1exq9ec(driver):\n",
    "    data = []\n",
    "    \n",
    "    # i = 0\n",
    "    # while i <= 38:\n",
    "    driver.get(url)\n",
    "    WebDriverWait(driver, 10).until(EC.presence_of_element_located((By.TAG_NAME, 'tbody')))\n",
    "    soup = BeautifulSoup(driver.page_source, 'html.parser')\n",
    "    p2p_offers = soup.find_all('tbody', class_='bn-table-tbody')\n",
    "\n",
    "    \n",
    "    # for i in range(1,38):\n",
    "    #     find_next_page = soup.find_element(By.XPATH, f\"//button[@id='page-{i}']\")\n",
    "    #     p2p_offers = soup.find_all('tbody', class_='bn-table-tbody')\n",
    "        \n",
    "    #     find_next_page.click()\n",
    "\n",
    "    for offer in p2p_offers:\n",
    "        a_tags = offer.find_all('a', id=\"\")  \n",
    "        for a_tag in a_tags:\n",
    "            href = a_tag.get('href')\n",
    "            final_url = urljoin(url, href)\n",
    "            driver.get(final_url)\n",
    "            try:\n",
    "                all_trades = driver.find_element(By.XPATH, \"//div[@class='css-1tngqys']//div[@class='css-1t6ikjh'][contains(text(),'All Trades')]/following-sibling::div//span[@class='css-1exq9ec']\").text\n",
    "                thirtyD_trades = driver.find_element(By.XPATH, \"//div[@class='css-1tngqys']//div[@class='css-1t6ikjh'][contains(text(),'30d Trades')]/following-sibling::div//span[@class='css-1exq9ec']\").text\n",
    "                thirtyD_completion_rate = driver.find_element(By.XPATH, \"//div[@class='css-1tngqys']//div[@class='css-1t6ikjh'][contains(text(),'30d Completion Rate')]/following-sibling::div//span[@class='css-1exq9ec']\").text\n",
    "                avg_release_time = driver.find_element(By.XPATH, \"//div[@class='css-1tngqys']//div[@class='css-1t6ikjh'][contains(text(),'Avg. Release Time')]/following-sibling::div//span[@class='css-1exq9ec']\").text\n",
    "                avg_pay_time = driver.find_element(By.XPATH, \"//div[@class='css-1tngqys']//div[@class='css-1t6ikjh'][contains(text(),'Avg. Pay Time')]/following-sibling::div//span[@class='css-1exq9ec']\").text\n",
    "                data.append({\n",
    "                    'URL': final_url,\n",
    "                    'All trades': all_trades,\n",
    "                    '30d trades': thirtyD_trades,\n",
    "                    '30d completion rate': thirtyD_completion_rate,\n",
    "                    'Avg. release time': avg_release_time,\n",
    "                    'Avg. pay time': avg_pay_time,\n",
    "                })\n",
    "            except NoSuchElementException:\n",
    "                try: \n",
    "                    all_trades = driver.find_element(By.XPATH, \"//div[@class='css-1tngqys']//div[@class='css-youqw8'][contains(text(),'All Trades')]/following-sibling::div//span[@class='css-1exq9ec']\").text\n",
    "                    thirtyD_trades = driver.find_element(By.XPATH, \"//div[@class='css-1tngqys']//div[@class='css-youqw8'][contains(text(),'30d Trades')]/following-sibling::div//span[@class='css-1exq9ec']\").text\n",
    "                    thirtyD_completion_rate = driver.find_element(By.XPATH, \"//div[@class='css-1tngqys']//div[@class='css-youqw8'][contains(text(),'30d Completion Rate')]/following-sibling::div//span[@class='css-1exq9ec']\").text\n",
    "                    avg_release_time = driver.find_element(By.XPATH, \"//div[@class='css-1tngqys']//div[@class='css-youqw8'][contains(text(),'Avg. Release Time')]/following-sibling::div//span[@class='css-1exq9ec']\").text\n",
    "                    avg_pay_time = driver.find_element(By.XPATH, \"//div[@class='css-1tngqys']//div[@class='css-youqw8'][contains(text(),'Avg. Pay Time')]/following-sibling::div//span[@class='css-1exq9ec']\").text\n",
    "                    data.append({\n",
    "                        'URL': final_url,\n",
    "                        'All trades': all_trades,\n",
    "                        '30d trades': thirtyD_trades,\n",
    "                        '30d completion rate': thirtyD_completion_rate,\n",
    "                        'Avg. release time': avg_release_time,\n",
    "                        'Avg. pay time': avg_pay_time,\n",
    "                    })\n",
    "                    print(\"Some elements could not be found on the page.\")\n",
    "                    print(final_url)\n",
    "                except NoSuchElementException:\n",
    "                    try: \n",
    "                        all_trades = driver.find_element(By.XPATH, \"//div[@class='css-1tngqys']//div[@class='css-qyrdwo'][contains(text(),'All Trades')]/following-sibling::div//span[@class='css-1exq9ec']\").text\n",
    "                        thirtyD_trades = driver.find_element(By.XPATH, \"//div[@class='css-1tngqys']//div[@class='css-qyrdwo'][contains(text(),'30d Trades')]/following-sibling::div//span[@class='css-1exq9ec']\").text\n",
    "                        thirtyD_completion_rate = driver.find_element(By.XPATH, \"//div[@class='css-1tngqys']//div[@class='css-qyrdwo'][contains(text(),'30d Completion Rate')]/following-sibling::div//span[@class='css-1exq9ec']\").text\n",
    "                        avg_release_time = driver.find_element(By.XPATH, \"//div[@class='css-1tngqys']//div[@class='css-qyrdwo'][contains(text(),'Avg. Release Time')]/following-sibling::div//span[@class='css-1exq9ec']\").text\n",
    "                        avg_pay_time = driver.find_element(By.XPATH, \"//div[@class='css-1tngqys']//div[@class='css-qyrdwo'][contains(text(),'Avg. Pay Time')]/following-sibling::div//span[@class='css-1exq9ec']\").text\n",
    "                        data.append({\n",
    "                            'URL': final_url,\n",
    "                            'All trades': all_trades,\n",
    "                            '30d trades': thirtyD_trades,\n",
    "                            '30d completion rate': thirtyD_completion_rate,\n",
    "                            'Avg. release time': avg_release_time,\n",
    "                            'Avg. pay time': avg_pay_time,\n",
    "                        })\n",
    "                        print(\"CHORTTTTTT\")\n",
    "                        print(final_url)\n",
    "                    except NoSuchElementException:\n",
    "                        try: \n",
    "                            all_trades = driver.find_element(By.XPATH, \"//div[@class='css-1tngqys']//div[@class='css-3njx2k'][contains(text(),'All Trades')]/following-sibling::div//span[@class='css-1exq9ec']\").text\n",
    "                            thirtyD_trades = driver.find_element(By.XPATH, \"//div[@class='css-1tngqys']//div[@class='css-3njx2k'][contains(text(),'30d Trades')]/following-sibling::div//span[@class='css-1exq9ec']\").text\n",
    "                            thirtyD_completion_rate = driver.find_element(By.XPATH, \"//div[@class='css-1tngqys']//div[@class='css-3njx2k'][contains(text(),'30d Completion Rate')]/following-sibling::div//span[@class='css-1exq9ec']\").text\n",
    "                            avg_release_time = driver.find_element(By.XPATH, \"//div[@class='css-1tngqys']//div[@class='css-3njx2k'][contains(text(),'Avg. Release Time')]/following-sibling::div//span[@class='css-1exq9ec']\").text\n",
    "                            avg_pay_time = driver.find_element(By.XPATH, \"//div[@class='css-1tngqys']//div[@class='css-3njx2k'][contains(text(),'Avg. Pay Time')]/following-sibling::div//span[@class='css-1exq9ec']\").text\n",
    "                            data.append({\n",
    "                                'URL': final_url,\n",
    "                                'All trades': all_trades,\n",
    "                                '30d trades': thirtyD_trades,\n",
    "                                '30d completion rate': thirtyD_completion_rate,\n",
    "                                'Avg. release time': avg_release_time,\n",
    "                                'Avg. pay time': avg_pay_time,\n",
    "                            })\n",
    "                            print(\"pohuiiii\")\n",
    "                            print(final_url)\n",
    "                        except NoSuchElementException:\n",
    "                            print(\"Fignya\")\n",
    "                            print(final_url)\n",
    "            except Exception as e:\n",
    "                print(f\"Error occurred: {e}\")\n",
    "            time.sleep(1)\n",
    "\n",
    "    #find_next_page = soup.find_element(By.ID, 'next-page')\n",
    "    #find_next_page.click()\n",
    "    return data\n",
    "\n",
    "def click_confirm_button():\n",
    "    driver = webdriver.Chrome()\n",
    "    try:\n",
    "        scraped_data = scrape_p2p_data_1exq9ec(driver)\n",
    "        write_to_csv(scraped_data)\n",
    "    finally:\n",
    "        driver.quit()\n",
    "\n",
    "click_confirm_button()\n",
    "df = pd.read_csv('p2p_offers.csv')\n",
    "df"
   ]
  },
  {
   "cell_type": "code",
   "execution_count": 59,
   "metadata": {},
   "outputs": [
    {
     "ename": "NameError",
     "evalue": "name 'data' is not defined",
     "output_type": "error",
     "traceback": [
      "\u001b[1;31m---------------------------------------------------------------------------\u001b[0m",
      "\u001b[1;31mNameError\u001b[0m                                 Traceback (most recent call last)",
      "Cell \u001b[1;32mIn[59], line 1\u001b[0m\n\u001b[1;32m----> 1\u001b[0m \u001b[38;5;28mprint\u001b[39m(\u001b[43mdata\u001b[49m)\n",
      "\u001b[1;31mNameError\u001b[0m: name 'data' is not defined"
     ]
    }
   ],
   "source": [
    "print(data)"
   ]
  }
 ],
 "metadata": {
  "kernelspec": {
   "display_name": "Python 3",
   "language": "python",
   "name": "python3"
  },
  "language_info": {
   "codemirror_mode": {
    "name": "ipython",
    "version": 3
   },
   "file_extension": ".py",
   "mimetype": "text/x-python",
   "name": "python",
   "nbconvert_exporter": "python",
   "pygments_lexer": "ipython3",
   "version": "3.12.1"
  }
 },
 "nbformat": 4,
 "nbformat_minor": 4
}
