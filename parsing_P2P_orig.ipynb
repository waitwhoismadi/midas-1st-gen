{
 "cells": [
  {
   "cell_type": "code",
   "execution_count": 39,
   "metadata": {},
   "outputs": [
    {
     "name": "stdout",
     "output_type": "stream",
     "text": [
      "Some elements could not be found on the page.\n",
      "Some elements could not be found on the page.\n",
      "Some elements could not be found on the page.\n",
      "Some elements could not be found on the page.\n",
      "Some elements could not be found on the page.\n",
      "Some elements could not be found on the page.\n",
      "Some elements could not be found on the page.\n",
      "Some elements could not be found on the page.\n",
      "Some elements could not be found on the page.\n",
      "Some elements could not be found on the page.\n"
     ]
    },
    {
     "data": {
      "text/html": [
       "<div>\n",
       "<style scoped>\n",
       "    .dataframe tbody tr th:only-of-type {\n",
       "        vertical-align: middle;\n",
       "    }\n",
       "\n",
       "    .dataframe tbody tr th {\n",
       "        vertical-align: top;\n",
       "    }\n",
       "\n",
       "    .dataframe thead th {\n",
       "        text-align: right;\n",
       "    }\n",
       "</style>\n",
       "<table border=\"1\" class=\"dataframe\">\n",
       "  <thead>\n",
       "    <tr style=\"text-align: right;\">\n",
       "      <th></th>\n",
       "      <th>URL</th>\n",
       "      <th>Name</th>\n",
       "      <th>All trades</th>\n",
       "      <th>30d trades</th>\n",
       "      <th>30d completion rate</th>\n",
       "      <th>Avg. release time</th>\n",
       "      <th>Avg. pay time</th>\n",
       "    </tr>\n",
       "  </thead>\n",
       "  <tbody>\n",
       "  </tbody>\n",
       "</table>\n",
       "</div>"
      ],
      "text/plain": [
       "Empty DataFrame\n",
       "Columns: [URL, Name, All trades, 30d trades, 30d completion rate, Avg. release time, Avg. pay time]\n",
       "Index: []"
      ]
     },
     "execution_count": 39,
     "metadata": {},
     "output_type": "execute_result"
    }
   ],
   "source": [
    "def write_to_csv(data):\n",
    "    with open('p2p_offers.csv', mode='w', newline='', encoding='utf-8') as file:\n",
    "        fieldnames = ['URL', 'Name', 'All trades', '30d trades', '30d completion rate', 'Avg. release time', 'Avg. pay time']\n",
    "        writer = csv.DictWriter(file, fieldnames=fieldnames)\n",
    "        writer.writeheader()\n",
    "        for row in data:\n",
    "            writer.writerow(row)\n",
    "            \n",
    "def scrape_p2p_data_1exq9ec(driver):\n",
    "    data = []\n",
    "    driver.get(url)\n",
    "    WebDriverWait(driver, 10).until(EC.presence_of_element_located((By.TAG_NAME, 'tbody')))\n",
    "    soup = BeautifulSoup(driver.page_source, 'html.parser')\n",
    "    p2p_offers = soup.find_all('tbody', class_='bn-table-tbody')\n",
    "    \n",
    "    for offer in p2p_offers:\n",
    "        a_tags = offer.find_all('a', id=\"\")  \n",
    "        for a_tag in a_tags:\n",
    "            href = a_tag.get('href')\n",
    "            final_url = urljoin(url, href)\n",
    "            driver.get(final_url)\n",
    "            try:\n",
    "                name_of_account = driver.find_element(By.XPATH, \"//div[@class='css-9ruxpw']\").text\n",
    "                all_trades = driver.find_element(By.XPATH, \"//div[@class='css-1tngqys']//div[@class='css-1t6ikjh'][contains(text(),'All Trades')]/following-sibling::div//span[@class='css-1exq9ec']\").text\n",
    "                thirtyD_trades = driver.find_element(By.XPATH, \"//div[@class='css-1tngqys']//div[@class='css-1t6ikjh'][contains(text(),'30d Trades')]/following-sibling::div//span[@class='css-1exq9ec']\").text\n",
    "                thirtyD_completion_rate = driver.find_element(By.XPATH, \"//div[@class='css-1tngqys']//div[@class='css-1t6ikjh'][contains(text(),'30d Completion Rate')]/following-sibling::div//span[@class='css-1exq9ec']\").text\n",
    "                avg_release_time = driver.find_element(By.XPATH, \"//div[@class='css-1tngqys']//div[@class='css-1t6ikjh'][contains(text(),'Avg. Release Time')]/following-sibling::div//span[@class='css-1exq9ec']\").text\n",
    "                avg_pay_time = driver.find_element(By.XPATH, \"//div[@class='css-1tngqys']//div[@class='css-1t6ikjh'][contains(text(),'Avg. Pay Time')]/following-sibling::div//span[@class='css-1exq9ec']\").text\n",
    "                data.append({\n",
    "                    'Name': name_of_account,\n",
    "                    'URL': final_url,\n",
    "                    'All trades': all_trades,\n",
    "                    '30d trades': thirtyD_trades,\n",
    "                    '30d completion rate': thirtyD_completion_rate,\n",
    "                    'Avg. release time': avg_release_time,\n",
    "                    'Avg. pay time': avg_pay_time,\n",
    "                })\n",
    "            except NoSuchElementException:\n",
    "                print(\"Some elements could not be found on the page.\")\n",
    "            except Exception as e:\n",
    "                print(f\"Error occurred: {e}\")\n",
    "            time.sleep(2)\n",
    "    return data\n",
    "\n",
    "\n",
    "\n",
    "def click_confirm_button():\n",
    "    driver = webdriver.Chrome()\n",
    "    try:\n",
    "        scraped_data = scrape_p2p_data_1exq9ec(driver)\n",
    "        scraped_data += scrape_p2p_data_3ebmbd(driver)\n",
    "        write_to_csv(scraped_data)\n",
    "    finally:\n",
    "        driver.quit()\n",
    "\n",
    "click_confirm_button()\n",
    "df = pd.read_csv('p2p_offers.csv')\n",
    "df"
   ]
  }
 ],
 "metadata": {
  "kernelspec": {
   "display_name": "Python 3",
   "language": "python",
   "name": "python3"
  },
  "language_info": {
   "codemirror_mode": {
    "name": "ipython",
    "version": 3
   },
   "file_extension": ".py",
   "mimetype": "text/x-python",
   "name": "python",
   "nbconvert_exporter": "python",
   "pygments_lexer": "ipython3",
   "version": "3.11.7"
  }
 },
 "nbformat": 4,
 "nbformat_minor": 4
}
